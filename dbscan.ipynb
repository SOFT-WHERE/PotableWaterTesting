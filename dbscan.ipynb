{
  "nbformat": 4,
  "nbformat_minor": 0,
  "metadata": {
    "colab": {
      "name": "dbscan.ipynb",
      "provenance": [],
      "collapsed_sections": [],
      "authorship_tag": "ABX9TyPeA3uP8oZkNa5ogH1rXujq",
      "include_colab_link": true
    },
    "kernelspec": {
      "name": "python3",
      "display_name": "Python 3"
    },
    "language_info": {
      "name": "python"
    }
  },
  "cells": [
    {
      "cell_type": "markdown",
      "metadata": {
        "id": "view-in-github",
        "colab_type": "text"
      },
      "source": [
        "<a href=\"https://colab.research.google.com/github/SOFT-WHERE/PotableWaterTesting/blob/master/dbscan.ipynb\" target=\"_parent\"><img src=\"https://colab.research.google.com/assets/colab-badge.svg\" alt=\"Open In Colab\"/></a>"
      ]
    },
    {
      "cell_type": "code",
      "metadata": {
        "colab": {
          "base_uri": "https://localhost:8080/"
        },
        "id": "Uj958cj51DtP",
        "outputId": "3b9162df-b5ce-48e2-a600-18215a2fb9b5"
      },
      "source": [
        "!pip install faker\n",
        "import pandas as pd\n",
        "import matplotlib.pyplot as plt"
      ],
      "execution_count": 1,
      "outputs": [
        {
          "output_type": "stream",
          "name": "stdout",
          "text": [
            "Collecting faker\n",
            "  Downloading Faker-8.13.2-py3-none-any.whl (1.2 MB)\n",
            "\u001b[?25l\r\u001b[K     |▎                               | 10 kB 22.1 MB/s eta 0:00:01\r\u001b[K     |▌                               | 20 kB 27.2 MB/s eta 0:00:01\r\u001b[K     |▉                               | 30 kB 12.7 MB/s eta 0:00:01\r\u001b[K     |█                               | 40 kB 9.6 MB/s eta 0:00:01\r\u001b[K     |█▍                              | 51 kB 5.0 MB/s eta 0:00:01\r\u001b[K     |█▋                              | 61 kB 5.5 MB/s eta 0:00:01\r\u001b[K     |██                              | 71 kB 5.9 MB/s eta 0:00:01\r\u001b[K     |██▏                             | 81 kB 6.6 MB/s eta 0:00:01\r\u001b[K     |██▌                             | 92 kB 6.8 MB/s eta 0:00:01\r\u001b[K     |██▊                             | 102 kB 5.3 MB/s eta 0:00:01\r\u001b[K     |███                             | 112 kB 5.3 MB/s eta 0:00:01\r\u001b[K     |███▎                            | 122 kB 5.3 MB/s eta 0:00:01\r\u001b[K     |███▋                            | 133 kB 5.3 MB/s eta 0:00:01\r\u001b[K     |███▉                            | 143 kB 5.3 MB/s eta 0:00:01\r\u001b[K     |████▏                           | 153 kB 5.3 MB/s eta 0:00:01\r\u001b[K     |████▍                           | 163 kB 5.3 MB/s eta 0:00:01\r\u001b[K     |████▊                           | 174 kB 5.3 MB/s eta 0:00:01\r\u001b[K     |█████                           | 184 kB 5.3 MB/s eta 0:00:01\r\u001b[K     |█████▎                          | 194 kB 5.3 MB/s eta 0:00:01\r\u001b[K     |█████▌                          | 204 kB 5.3 MB/s eta 0:00:01\r\u001b[K     |█████▉                          | 215 kB 5.3 MB/s eta 0:00:01\r\u001b[K     |██████                          | 225 kB 5.3 MB/s eta 0:00:01\r\u001b[K     |██████▍                         | 235 kB 5.3 MB/s eta 0:00:01\r\u001b[K     |██████▋                         | 245 kB 5.3 MB/s eta 0:00:01\r\u001b[K     |███████                         | 256 kB 5.3 MB/s eta 0:00:01\r\u001b[K     |███████▏                        | 266 kB 5.3 MB/s eta 0:00:01\r\u001b[K     |███████▌                        | 276 kB 5.3 MB/s eta 0:00:01\r\u001b[K     |███████▊                        | 286 kB 5.3 MB/s eta 0:00:01\r\u001b[K     |████████                        | 296 kB 5.3 MB/s eta 0:00:01\r\u001b[K     |████████▎                       | 307 kB 5.3 MB/s eta 0:00:01\r\u001b[K     |████████▋                       | 317 kB 5.3 MB/s eta 0:00:01\r\u001b[K     |████████▉                       | 327 kB 5.3 MB/s eta 0:00:01\r\u001b[K     |█████████▏                      | 337 kB 5.3 MB/s eta 0:00:01\r\u001b[K     |█████████▍                      | 348 kB 5.3 MB/s eta 0:00:01\r\u001b[K     |█████████▊                      | 358 kB 5.3 MB/s eta 0:00:01\r\u001b[K     |██████████                      | 368 kB 5.3 MB/s eta 0:00:01\r\u001b[K     |██████████▎                     | 378 kB 5.3 MB/s eta 0:00:01\r\u001b[K     |██████████▌                     | 389 kB 5.3 MB/s eta 0:00:01\r\u001b[K     |██████████▉                     | 399 kB 5.3 MB/s eta 0:00:01\r\u001b[K     |███████████                     | 409 kB 5.3 MB/s eta 0:00:01\r\u001b[K     |███████████▍                    | 419 kB 5.3 MB/s eta 0:00:01\r\u001b[K     |███████████▋                    | 430 kB 5.3 MB/s eta 0:00:01\r\u001b[K     |████████████                    | 440 kB 5.3 MB/s eta 0:00:01\r\u001b[K     |████████████▏                   | 450 kB 5.3 MB/s eta 0:00:01\r\u001b[K     |████████████▌                   | 460 kB 5.3 MB/s eta 0:00:01\r\u001b[K     |████████████▊                   | 471 kB 5.3 MB/s eta 0:00:01\r\u001b[K     |█████████████                   | 481 kB 5.3 MB/s eta 0:00:01\r\u001b[K     |█████████████▎                  | 491 kB 5.3 MB/s eta 0:00:01\r\u001b[K     |█████████████▋                  | 501 kB 5.3 MB/s eta 0:00:01\r\u001b[K     |█████████████▉                  | 512 kB 5.3 MB/s eta 0:00:01\r\u001b[K     |██████████████▏                 | 522 kB 5.3 MB/s eta 0:00:01\r\u001b[K     |██████████████▍                 | 532 kB 5.3 MB/s eta 0:00:01\r\u001b[K     |██████████████▊                 | 542 kB 5.3 MB/s eta 0:00:01\r\u001b[K     |███████████████                 | 552 kB 5.3 MB/s eta 0:00:01\r\u001b[K     |███████████████▎                | 563 kB 5.3 MB/s eta 0:00:01\r\u001b[K     |███████████████▌                | 573 kB 5.3 MB/s eta 0:00:01\r\u001b[K     |███████████████▉                | 583 kB 5.3 MB/s eta 0:00:01\r\u001b[K     |████████████████                | 593 kB 5.3 MB/s eta 0:00:01\r\u001b[K     |████████████████▍               | 604 kB 5.3 MB/s eta 0:00:01\r\u001b[K     |████████████████▋               | 614 kB 5.3 MB/s eta 0:00:01\r\u001b[K     |████████████████▉               | 624 kB 5.3 MB/s eta 0:00:01\r\u001b[K     |█████████████████▏              | 634 kB 5.3 MB/s eta 0:00:01\r\u001b[K     |█████████████████▍              | 645 kB 5.3 MB/s eta 0:00:01\r\u001b[K     |█████████████████▊              | 655 kB 5.3 MB/s eta 0:00:01\r\u001b[K     |██████████████████              | 665 kB 5.3 MB/s eta 0:00:01\r\u001b[K     |██████████████████▎             | 675 kB 5.3 MB/s eta 0:00:01\r\u001b[K     |██████████████████▌             | 686 kB 5.3 MB/s eta 0:00:01\r\u001b[K     |██████████████████▉             | 696 kB 5.3 MB/s eta 0:00:01\r\u001b[K     |███████████████████             | 706 kB 5.3 MB/s eta 0:00:01\r\u001b[K     |███████████████████▍            | 716 kB 5.3 MB/s eta 0:00:01\r\u001b[K     |███████████████████▋            | 727 kB 5.3 MB/s eta 0:00:01\r\u001b[K     |████████████████████            | 737 kB 5.3 MB/s eta 0:00:01\r\u001b[K     |████████████████████▏           | 747 kB 5.3 MB/s eta 0:00:01\r\u001b[K     |████████████████████▌           | 757 kB 5.3 MB/s eta 0:00:01\r\u001b[K     |████████████████████▊           | 768 kB 5.3 MB/s eta 0:00:01\r\u001b[K     |█████████████████████           | 778 kB 5.3 MB/s eta 0:00:01\r\u001b[K     |█████████████████████▎          | 788 kB 5.3 MB/s eta 0:00:01\r\u001b[K     |█████████████████████▋          | 798 kB 5.3 MB/s eta 0:00:01\r\u001b[K     |█████████████████████▉          | 808 kB 5.3 MB/s eta 0:00:01\r\u001b[K     |██████████████████████▏         | 819 kB 5.3 MB/s eta 0:00:01\r\u001b[K     |██████████████████████▍         | 829 kB 5.3 MB/s eta 0:00:01\r\u001b[K     |██████████████████████▊         | 839 kB 5.3 MB/s eta 0:00:01\r\u001b[K     |███████████████████████         | 849 kB 5.3 MB/s eta 0:00:01\r\u001b[K     |███████████████████████▎        | 860 kB 5.3 MB/s eta 0:00:01\r\u001b[K     |███████████████████████▌        | 870 kB 5.3 MB/s eta 0:00:01\r\u001b[K     |███████████████████████▉        | 880 kB 5.3 MB/s eta 0:00:01\r\u001b[K     |████████████████████████        | 890 kB 5.3 MB/s eta 0:00:01\r\u001b[K     |████████████████████████▍       | 901 kB 5.3 MB/s eta 0:00:01\r\u001b[K     |████████████████████████▋       | 911 kB 5.3 MB/s eta 0:00:01\r\u001b[K     |█████████████████████████       | 921 kB 5.3 MB/s eta 0:00:01\r\u001b[K     |█████████████████████████▏      | 931 kB 5.3 MB/s eta 0:00:01\r\u001b[K     |█████████████████████████▌      | 942 kB 5.3 MB/s eta 0:00:01\r\u001b[K     |█████████████████████████▊      | 952 kB 5.3 MB/s eta 0:00:01\r\u001b[K     |██████████████████████████      | 962 kB 5.3 MB/s eta 0:00:01\r\u001b[K     |██████████████████████████▎     | 972 kB 5.3 MB/s eta 0:00:01\r\u001b[K     |██████████████████████████▋     | 983 kB 5.3 MB/s eta 0:00:01\r\u001b[K     |██████████████████████████▉     | 993 kB 5.3 MB/s eta 0:00:01\r\u001b[K     |███████████████████████████▏    | 1.0 MB 5.3 MB/s eta 0:00:01\r\u001b[K     |███████████████████████████▍    | 1.0 MB 5.3 MB/s eta 0:00:01\r\u001b[K     |███████████████████████████▊    | 1.0 MB 5.3 MB/s eta 0:00:01\r\u001b[K     |████████████████████████████    | 1.0 MB 5.3 MB/s eta 0:00:01\r\u001b[K     |████████████████████████████▎   | 1.0 MB 5.3 MB/s eta 0:00:01\r\u001b[K     |████████████████████████████▌   | 1.1 MB 5.3 MB/s eta 0:00:01\r\u001b[K     |████████████████████████████▉   | 1.1 MB 5.3 MB/s eta 0:00:01\r\u001b[K     |█████████████████████████████   | 1.1 MB 5.3 MB/s eta 0:00:01\r\u001b[K     |█████████████████████████████▍  | 1.1 MB 5.3 MB/s eta 0:00:01\r\u001b[K     |█████████████████████████████▋  | 1.1 MB 5.3 MB/s eta 0:00:01\r\u001b[K     |██████████████████████████████  | 1.1 MB 5.3 MB/s eta 0:00:01\r\u001b[K     |██████████████████████████████▏ | 1.1 MB 5.3 MB/s eta 0:00:01\r\u001b[K     |██████████████████████████████▌ | 1.1 MB 5.3 MB/s eta 0:00:01\r\u001b[K     |██████████████████████████████▊ | 1.1 MB 5.3 MB/s eta 0:00:01\r\u001b[K     |███████████████████████████████ | 1.1 MB 5.3 MB/s eta 0:00:01\r\u001b[K     |███████████████████████████████▎| 1.2 MB 5.3 MB/s eta 0:00:01\r\u001b[K     |███████████████████████████████▋| 1.2 MB 5.3 MB/s eta 0:00:01\r\u001b[K     |███████████████████████████████▉| 1.2 MB 5.3 MB/s eta 0:00:01\r\u001b[K     |████████████████████████████████| 1.2 MB 5.3 MB/s \n",
            "\u001b[?25hRequirement already satisfied: python-dateutil>=2.4 in /usr/local/lib/python3.7/dist-packages (from faker) (2.8.2)\n",
            "Requirement already satisfied: text-unidecode==1.3 in /usr/local/lib/python3.7/dist-packages (from faker) (1.3)\n",
            "Requirement already satisfied: six>=1.5 in /usr/local/lib/python3.7/dist-packages (from python-dateutil>=2.4->faker) (1.15.0)\n",
            "Installing collected packages: faker\n",
            "Successfully installed faker-8.13.2\n"
          ]
        }
      ]
    },
    {
      "cell_type": "code",
      "metadata": {
        "id": "xcS1GRjO1Q_V"
      },
      "source": [
        "from faker import Faker\n",
        "import pandas as pd\n",
        "faker = Faker()\n",
        "from sklearn.cluster import DBSCAN\n",
        "import numpy as np\n",
        "from collections import Counter\n",
        "from sklearn.preprocessing import StandardScaler"
      ],
      "execution_count": 2,
      "outputs": []
    },
    {
      "cell_type": "code",
      "metadata": {
        "id": "Opgnmg0H1Yo5"
      },
      "source": [
        "c=0\n",
        "L=[]\n",
        "l=[]\n",
        "lati=[]\n",
        "longi=[]\n",
        "dat=[]\n",
        "tim=[]"
      ],
      "execution_count": 3,
      "outputs": []
    },
    {
      "cell_type": "code",
      "metadata": {
        "colab": {
          "base_uri": "https://localhost:8080/",
          "height": 1000
        },
        "id": "bEF5EewO1cEq",
        "outputId": "0519de92-cccc-4178-8db2-46a38418ef2f"
      },
      "source": [
        "for i in range(0,10):\n",
        "   v=['g','r','b','c','m','w','k','y','orange','brown'] \n",
        "   t=0\n",
        "   d=0\n",
        "   lo=0\n",
        "   la=0\n",
        "   c=c+1\n",
        "   l=[]\n",
        "   L=[]\n",
        "   print(c,end=\"\")\n",
        "   print(\" Person name:\"+faker.first_name())\n",
        "   print(\"Longitude\",end=' ')\n",
        "   print(\"  Latitude\",end=' ')\n",
        "   print(\"   Date\",end=' ')\n",
        "   print(\"     Time\")\n",
        "   for j in range(10):\n",
        "     lo=faker.longitude()\n",
        "     la=faker.latitude()\n",
        "     t=faker.time() \n",
        "     d=faker.date_this_month()\n",
        "     print(lo,la,d,t)\n",
        "     l.append(la)\n",
        "     L.append(lo)  \n",
        "     lati.append(la)\n",
        "     longi.append(lo)\n",
        "   plt.title(\"Scatter Plot of locations\",fontsize=15)\n",
        "   plt.xlabel(\"Longitude\")\n",
        "   plt.ylabel(\"Latitude\")\n",
        "   plt.scatter(L,l,color=v[i],s=3,alpha=0.6)"
      ],
      "execution_count": 4,
      "outputs": [
        {
          "output_type": "stream",
          "name": "stdout",
          "text": [
            "1 Person name:Jennifer\n",
            "Longitude   Latitude    Date      Time\n",
            "0.340967 58.4012075 2021-09-01 16:17:06\n",
            "-30.432741 24.595557 2021-09-12 07:42:10\n",
            "-172.257502 -63.738328 2021-09-11 23:00:40\n",
            "22.682222 74.1757165 2021-09-14 00:08:40\n",
            "58.102494 71.4659985 2021-09-02 13:34:34\n",
            "43.727254 23.098163 2021-09-13 05:01:31\n",
            "134.683075 47.033473 2021-09-10 12:43:04\n",
            "121.694663 -13.053274 2021-09-15 01:12:41\n",
            "-55.516832 -72.723855 2021-09-03 20:20:20\n",
            "-124.052274 -84.006639 2021-09-14 08:39:42\n",
            "2 Person name:Michelle\n",
            "Longitude   Latitude    Date      Time\n",
            "-71.616869 64.0415345 2021-09-09 04:41:30\n",
            "-40.319959 13.9950515 2021-09-11 21:08:40\n",
            "-169.779747 56.829781 2021-09-12 23:34:48\n",
            "132.848079 -28.9472735 2021-09-01 06:27:21\n",
            "-144.250658 15.691708 2021-09-06 12:06:22\n",
            "100.933891 35.733527 2021-09-02 10:41:19\n",
            "-116.589007 -4.973723 2021-09-11 18:17:41\n",
            "-159.409028 -77.6586225 2021-09-02 12:31:13\n",
            "-15.673628 56.0088505 2021-09-01 02:52:33\n",
            "-100.212205 -88.5306955 2021-09-15 04:20:33\n",
            "3 Person name:Lisa\n",
            "Longitude   Latitude    Date      Time\n",
            "-92.768798 -6.1105595 2021-09-05 09:38:12\n",
            "-179.915138 14.455757 2021-09-09 14:29:17\n",
            "-69.378850 -42.2072405 2021-09-10 14:22:09\n",
            "47.133810 -27.501272 2021-09-06 00:58:33\n",
            "21.088101 -0.6934525 2021-09-06 13:38:42\n",
            "-54.904896 49.1850025 2021-09-07 03:09:03\n",
            "11.057555 -14.814926 2021-09-15 21:02:44\n",
            "84.073544 54.897294 2021-09-10 09:14:00\n",
            "38.878192 31.721869 2021-09-13 00:56:14\n",
            "-61.843171 65.4553395 2021-09-06 15:09:54\n",
            "4 Person name:Caroline\n",
            "Longitude   Latitude    Date      Time\n",
            "-27.817639 -54.375852 2021-09-15 13:13:47\n",
            "70.509096 -22.5291425 2021-09-03 21:55:41\n",
            "42.221318 -5.639867 2021-09-05 03:25:55\n",
            "-129.782116 27.5477025 2021-09-13 21:31:44\n",
            "-55.844900 21.7022995 2021-09-08 00:00:03\n",
            "153.601403 -63.760425 2021-09-13 01:36:33\n",
            "-143.589329 -60.850965 2021-09-08 23:01:44\n",
            "-82.688476 -81.6741925 2021-09-04 01:27:49\n",
            "103.605305 -51.0793745 2021-09-07 03:27:17\n",
            "-9.825564 -82.6451765 2021-09-02 09:24:29\n",
            "5 Person name:Michael\n",
            "Longitude   Latitude    Date      Time\n",
            "143.857782 -37.3713365 2021-09-10 03:02:29\n",
            "157.666417 27.3333385 2021-09-03 03:26:35\n",
            "49.834550 -5.777967 2021-09-13 13:03:01\n",
            "62.310647 45.6181435 2021-09-08 11:04:39\n",
            "-53.163896 -85.084674 2021-09-09 02:29:13\n",
            "-64.353131 15.2881055 2021-09-04 14:51:53\n",
            "-147.600638 29.035332 2021-09-12 18:04:26\n",
            "-37.499660 6.835635 2021-09-12 19:56:45\n",
            "-4.925903 -10.673803 2021-09-05 22:59:18\n",
            "106.468321 -81.6633175 2021-09-13 13:35:02\n",
            "6 Person name:Alicia\n",
            "Longitude   Latitude    Date      Time\n",
            "-30.783640 -14.4497885 2021-09-11 20:19:03\n",
            "42.254026 -3.265973 2021-09-01 07:03:48\n",
            "45.481237 -82.160216 2021-09-02 18:48:43\n",
            "-29.961629 -10.2432525 2021-09-10 00:53:12\n",
            "-162.957317 21.5558725 2021-09-01 05:48:03\n",
            "-75.295892 14.3462735 2021-09-12 11:27:15\n",
            "167.407937 30.811397 2021-09-03 06:57:21\n",
            "-59.045400 88.859047 2021-09-13 21:13:53\n",
            "146.745398 10.0463215 2021-09-09 02:31:56\n",
            "-158.394070 17.924580 2021-09-15 00:50:27\n",
            "7 Person name:Tracy\n",
            "Longitude   Latitude    Date      Time\n",
            "89.194747 -85.857938 2021-09-04 09:39:15\n",
            "125.254521 -83.3597265 2021-09-14 16:52:53\n",
            "49.833897 67.3506605 2021-09-06 12:10:33\n",
            "-96.714229 86.556026 2021-09-05 00:14:04\n",
            "99.791757 35.372104 2021-09-07 11:26:57\n",
            "154.926707 75.788662 2021-09-03 14:42:09\n",
            "-125.263301 12.356171 2021-09-14 23:50:39\n",
            "-164.298428 40.7564515 2021-09-11 15:25:12\n",
            "-168.156351 -46.8732385 2021-09-12 15:57:30\n",
            "-108.867922 27.5108045 2021-09-01 20:40:08\n",
            "8 Person name:Matthew\n",
            "Longitude   Latitude    Date      Time\n",
            "-178.290083 65.2157215 2021-09-01 18:26:37\n",
            "-20.293792 6.622411 2021-09-10 04:43:03\n",
            "-76.124317 7.320066 2021-09-05 15:19:28\n",
            "116.168742 -40.804078 2021-09-13 03:09:50\n",
            "-78.133417 -57.8733905 2021-09-09 00:46:56\n",
            "171.585079 -5.340206 2021-09-09 14:16:31\n",
            "-33.748524 85.4892845 2021-09-15 13:39:11\n",
            "-75.563236 -48.276369 2021-09-12 16:17:52\n",
            "104.120729 2.350858 2021-09-09 06:55:34\n",
            "73.338638 41.6832255 2021-09-06 16:37:19\n",
            "9 Person name:Donald\n",
            "Longitude   Latitude    Date      Time\n",
            "-88.541338 9.583571 2021-09-15 14:36:56\n",
            "-106.115618 3.174032 2021-09-15 15:36:53\n",
            "-38.762881 33.333354 2021-09-11 12:51:33\n",
            "-8.723418 -54.586306 2021-09-13 13:44:28\n",
            "-65.740738 78.965001 2021-09-11 07:13:33\n",
            "-100.236669 60.4386655 2021-09-14 01:43:13\n",
            "151.468737 50.8911525 2021-09-04 06:33:03\n",
            "17.364026 -6.7185815 2021-09-03 14:20:12\n",
            "-98.352192 -6.413575 2021-09-11 12:17:24\n",
            "-53.670963 -40.5811955 2021-09-07 06:56:10\n",
            "10 Person name:Kevin\n",
            "Longitude   Latitude    Date      Time\n",
            "57.637020 76.0080735 2021-09-07 03:58:36\n",
            "81.404977 58.431413 2021-09-09 14:08:56\n",
            "-126.623011 86.532360 2021-09-06 03:51:48\n",
            "-145.006361 71.9721695 2021-09-11 06:58:02\n",
            "-139.146751 14.286274 2021-09-03 09:36:06\n",
            "-122.623666 4.398455 2021-09-14 14:43:34\n",
            "-161.933149 -34.822388 2021-09-12 13:22:01\n",
            "97.113045 18.052403 2021-09-10 17:11:01\n",
            "-58.703465 -48.434816 2021-09-01 19:35:33\n",
            "-94.468596 -41.5198065 2021-09-15 22:06:37\n"
          ]
        },
        {
          "output_type": "display_data",
          "data": {
            "image/png": "[encoded data removed]",
            "text/plain": [
              "<Figure size 432x288 with 1 Axes>"
            ]
          },
          "metadata": {
            "needs_background": "light"
          }
        }
      ]
    },
    {
      "cell_type": "code",
      "metadata": {
        "colab": {
          "base_uri": "https://localhost:8080/"
        },
        "id": "Ehm94vIU1f3f",
        "outputId": "0193d217-af77-48d4-f963-5a1b83cc6d83"
      },
      "source": [
        "print(lati)"
      ],
      "execution_count": 5,
      "outputs": [
        {
          "output_type": "stream",
          "name": "stdout",
          "text": [
            "[Decimal('58.4012075'), Decimal('24.595557'), Decimal('-63.738328'), Decimal('74.1757165'), Decimal('71.4659985'), Decimal('23.098163'), Decimal('47.033473'), Decimal('-13.053274'), Decimal('-72.723855'), Decimal('-84.006639'), Decimal('64.0415345'), Decimal('13.9950515'), Decimal('56.829781'), Decimal('-28.9472735'), Decimal('15.691708'), Decimal('35.733527'), Decimal('-4.973723'), Decimal('-77.6586225'), Decimal('56.0088505'), Decimal('-88.5306955'), Decimal('-6.1105595'), Decimal('14.455757'), Decimal('-42.2072405'), Decimal('-27.501272'), Decimal('-0.6934525'), Decimal('49.1850025'), Decimal('-14.814926'), Decimal('54.897294'), Decimal('31.721869'), Decimal('65.4553395'), Decimal('-54.375852'), Decimal('-22.5291425'), Decimal('-5.639867'), Decimal('27.5477025'), Decimal('21.7022995'), Decimal('-63.760425'), Decimal('-60.850965'), Decimal('-81.6741925'), Decimal('-51.0793745'), Decimal('-82.6451765'), Decimal('-37.3713365'), Decimal('27.3333385'), Decimal('-5.777967'), Decimal('45.6181435'), Decimal('-85.084674'), Decimal('15.2881055'), Decimal('29.035332'), Decimal('6.835635'), Decimal('-10.673803'), Decimal('-81.6633175'), Decimal('-14.4497885'), Decimal('-3.265973'), Decimal('-82.160216'), Decimal('-10.2432525'), Decimal('21.5558725'), Decimal('14.3462735'), Decimal('30.811397'), Decimal('88.859047'), Decimal('10.0463215'), Decimal('17.924580'), Decimal('-85.857938'), Decimal('-83.3597265'), Decimal('67.3506605'), Decimal('86.556026'), Decimal('35.372104'), Decimal('75.788662'), Decimal('12.356171'), Decimal('40.7564515'), Decimal('-46.8732385'), Decimal('27.5108045'), Decimal('65.2157215'), Decimal('6.622411'), Decimal('7.320066'), Decimal('-40.804078'), Decimal('-57.8733905'), Decimal('-5.340206'), Decimal('85.4892845'), Decimal('-48.276369'), Decimal('2.350858'), Decimal('41.6832255'), Decimal('9.583571'), Decimal('3.174032'), Decimal('33.333354'), Decimal('-54.586306'), Decimal('78.965001'), Decimal('60.4386655'), Decimal('50.8911525'), Decimal('-6.7185815'), Decimal('-6.413575'), Decimal('-40.5811955'), Decimal('76.0080735'), Decimal('58.431413'), Decimal('86.532360'), Decimal('71.9721695'), Decimal('14.286274'), Decimal('4.398455'), Decimal('-34.822388'), Decimal('18.052403'), Decimal('-48.434816'), Decimal('-41.5198065')]\n"
          ]
        }
      ]
    },
    {
      "cell_type": "code",
      "metadata": {
        "colab": {
          "base_uri": "https://localhost:8080/"
        },
        "id": "iiGKzHcG1mZO",
        "outputId": "6a8bb194-dff6-4326-da4f-8a675a47a092"
      },
      "source": [
        "print(longi)"
      ],
      "execution_count": 6,
      "outputs": [
        {
          "output_type": "stream",
          "name": "stdout",
          "text": [
            "[Decimal('0.340967'), Decimal('-30.432741'), Decimal('-172.257502'), Decimal('22.682222'), Decimal('58.102494'), Decimal('43.727254'), Decimal('134.683075'), Decimal('121.694663'), Decimal('-55.516832'), Decimal('-124.052274'), Decimal('-71.616869'), Decimal('-40.319959'), Decimal('-169.779747'), Decimal('132.848079'), Decimal('-144.250658'), Decimal('100.933891'), Decimal('-116.589007'), Decimal('-159.409028'), Decimal('-15.673628'), Decimal('-100.212205'), Decimal('-92.768798'), Decimal('-179.915138'), Decimal('-69.378850'), Decimal('47.133810'), Decimal('21.088101'), Decimal('-54.904896'), Decimal('11.057555'), Decimal('84.073544'), Decimal('38.878192'), Decimal('-61.843171'), Decimal('-27.817639'), Decimal('70.509096'), Decimal('42.221318'), Decimal('-129.782116'), Decimal('-55.844900'), Decimal('153.601403'), Decimal('-143.589329'), Decimal('-82.688476'), Decimal('103.605305'), Decimal('-9.825564'), Decimal('143.857782'), Decimal('157.666417'), Decimal('49.834550'), Decimal('62.310647'), Decimal('-53.163896'), Decimal('-64.353131'), Decimal('-147.600638'), Decimal('-37.499660'), Decimal('-4.925903'), Decimal('106.468321'), Decimal('-30.783640'), Decimal('42.254026'), Decimal('45.481237'), Decimal('-29.961629'), Decimal('-162.957317'), Decimal('-75.295892'), Decimal('167.407937'), Decimal('-59.045400'), Decimal('146.745398'), Decimal('-158.394070'), Decimal('89.194747'), Decimal('125.254521'), Decimal('49.833897'), Decimal('-96.714229'), Decimal('99.791757'), Decimal('154.926707'), Decimal('-125.263301'), Decimal('-164.298428'), Decimal('-168.156351'), Decimal('-108.867922'), Decimal('-178.290083'), Decimal('-20.293792'), Decimal('-76.124317'), Decimal('116.168742'), Decimal('-78.133417'), Decimal('171.585079'), Decimal('-33.748524'), Decimal('-75.563236'), Decimal('104.120729'), Decimal('73.338638'), Decimal('-88.541338'), Decimal('-106.115618'), Decimal('-38.762881'), Decimal('-8.723418'), Decimal('-65.740738'), Decimal('-100.236669'), Decimal('151.468737'), Decimal('17.364026'), Decimal('-98.352192'), Decimal('-53.670963'), Decimal('57.637020'), Decimal('81.404977'), Decimal('-126.623011'), Decimal('-145.006361'), Decimal('-139.146751'), Decimal('-122.623666'), Decimal('-161.933149'), Decimal('97.113045'), Decimal('-58.703465'), Decimal('-94.468596')]\n"
          ]
        }
      ]
    },
    {
      "cell_type": "code",
      "metadata": {
        "colab": {
          "base_uri": "https://localhost:8080/"
        },
        "id": "yQxveo0g1pKp",
        "outputId": "28f9a289-3a86-47b1-eeea-2ea25f19c1ef"
      },
      "source": [
        "res=[]\n",
        "for i in range(0,100):\n",
        "    r=[]\n",
        "    r.append(longi[i])\n",
        "    r.append(lati[i])\n",
        "    res.append(r)\n",
        "print(res)"
      ],
      "execution_count": 7,
      "outputs": [
        {
          "output_type": "stream",
          "name": "stdout",
          "text": [
            "[[Decimal('0.340967'), Decimal('58.4012075')], [Decimal('-30.432741'), Decimal('24.595557')], [Decimal('-172.257502'), Decimal('-63.738328')], [Decimal('22.682222'), Decimal('74.1757165')], [Decimal('58.102494'), Decimal('71.4659985')], [Decimal('43.727254'), Decimal('23.098163')], [Decimal('134.683075'), Decimal('47.033473')], [Decimal('121.694663'), Decimal('-13.053274')], [Decimal('-55.516832'), Decimal('-72.723855')], [Decimal('-124.052274'), Decimal('-84.006639')], [Decimal('-71.616869'), Decimal('64.0415345')], [Decimal('-40.319959'), Decimal('13.9950515')], [Decimal('-169.779747'), Decimal('56.829781')], [Decimal('132.848079'), Decimal('-28.9472735')], [Decimal('-144.250658'), Decimal('15.691708')], [Decimal('100.933891'), Decimal('35.733527')], [Decimal('-116.589007'), Decimal('-4.973723')], [Decimal('-159.409028'), Decimal('-77.6586225')], [Decimal('-15.673628'), Decimal('56.0088505')], [Decimal('-100.212205'), Decimal('-88.5306955')], [Decimal('-92.768798'), Decimal('-6.1105595')], [Decimal('-179.915138'), Decimal('14.455757')], [Decimal('-69.378850'), Decimal('-42.2072405')], [Decimal('47.133810'), Decimal('-27.501272')], [Decimal('21.088101'), Decimal('-0.6934525')], [Decimal('-54.904896'), Decimal('49.1850025')], [Decimal('11.057555'), Decimal('-14.814926')], [Decimal('84.073544'), Decimal('54.897294')], [Decimal('38.878192'), Decimal('31.721869')], [Decimal('-61.843171'), Decimal('65.4553395')], [Decimal('-27.817639'), Decimal('-54.375852')], [Decimal('70.509096'), Decimal('-22.5291425')], [Decimal('42.221318'), Decimal('-5.639867')], [Decimal('-129.782116'), Decimal('27.5477025')], [Decimal('-55.844900'), Decimal('21.7022995')], [Decimal('153.601403'), Decimal('-63.760425')], [Decimal('-143.589329'), Decimal('-60.850965')], [Decimal('-82.688476'), Decimal('-81.6741925')], [Decimal('103.605305'), Decimal('-51.0793745')], [Decimal('-9.825564'), Decimal('-82.6451765')], [Decimal('143.857782'), Decimal('-37.3713365')], [Decimal('157.666417'), Decimal('27.3333385')], [Decimal('49.834550'), Decimal('-5.777967')], [Decimal('62.310647'), Decimal('45.6181435')], [Decimal('-53.163896'), Decimal('-85.084674')], [Decimal('-64.353131'), Decimal('15.2881055')], [Decimal('-147.600638'), Decimal('29.035332')], [Decimal('-37.499660'), Decimal('6.835635')], [Decimal('-4.925903'), Decimal('-10.673803')], [Decimal('106.468321'), Decimal('-81.6633175')], [Decimal('-30.783640'), Decimal('-14.4497885')], [Decimal('42.254026'), Decimal('-3.265973')], [Decimal('45.481237'), Decimal('-82.160216')], [Decimal('-29.961629'), Decimal('-10.2432525')], [Decimal('-162.957317'), Decimal('21.5558725')], [Decimal('-75.295892'), Decimal('14.3462735')], [Decimal('167.407937'), Decimal('30.811397')], [Decimal('-59.045400'), Decimal('88.859047')], [Decimal('146.745398'), Decimal('10.0463215')], [Decimal('-158.394070'), Decimal('17.924580')], [Decimal('89.194747'), Decimal('-85.857938')], [Decimal('125.254521'), Decimal('-83.3597265')], [Decimal('49.833897'), Decimal('67.3506605')], [Decimal('-96.714229'), Decimal('86.556026')], [Decimal('99.791757'), Decimal('35.372104')], [Decimal('154.926707'), Decimal('75.788662')], [Decimal('-125.263301'), Decimal('12.356171')], [Decimal('-164.298428'), Decimal('40.7564515')], [Decimal('-168.156351'), Decimal('-46.8732385')], [Decimal('-108.867922'), Decimal('27.5108045')], [Decimal('-178.290083'), Decimal('65.2157215')], [Decimal('-20.293792'), Decimal('6.622411')], [Decimal('-76.124317'), Decimal('7.320066')], [Decimal('116.168742'), Decimal('-40.804078')], [Decimal('-78.133417'), Decimal('-57.8733905')], [Decimal('171.585079'), Decimal('-5.340206')], [Decimal('-33.748524'), Decimal('85.4892845')], [Decimal('-75.563236'), Decimal('-48.276369')], [Decimal('104.120729'), Decimal('2.350858')], [Decimal('73.338638'), Decimal('41.6832255')], [Decimal('-88.541338'), Decimal('9.583571')], [Decimal('-106.115618'), Decimal('3.174032')], [Decimal('-38.762881'), Decimal('33.333354')], [Decimal('-8.723418'), Decimal('-54.586306')], [Decimal('-65.740738'), Decimal('78.965001')], [Decimal('-100.236669'), Decimal('60.4386655')], [Decimal('151.468737'), Decimal('50.8911525')], [Decimal('17.364026'), Decimal('-6.7185815')], [Decimal('-98.352192'), Decimal('-6.413575')], [Decimal('-53.670963'), Decimal('-40.5811955')], [Decimal('57.637020'), Decimal('76.0080735')], [Decimal('81.404977'), Decimal('58.431413')], [Decimal('-126.623011'), Decimal('86.532360')], [Decimal('-145.006361'), Decimal('71.9721695')], [Decimal('-139.146751'), Decimal('14.286274')], [Decimal('-122.623666'), Decimal('4.398455')], [Decimal('-161.933149'), Decimal('-34.822388')], [Decimal('97.113045'), Decimal('18.052403')], [Decimal('-58.703465'), Decimal('-48.434816')], [Decimal('-94.468596'), Decimal('-41.5198065')]]\n"
          ]
        }
      ]
    },
    {
      "cell_type": "code",
      "metadata": {
        "id": "1q1LS6gE1sYj"
      },
      "source": [
        "from sklearn.datasets.samples_generator import make_blobs\n",
        "from sklearn.neighbors import NearestNeighbors\n",
        "import seaborn as sns\n",
        "sns.set()"
      ],
      "execution_count": 9,
      "outputs": []
    },
    {
      "cell_type": "code",
      "metadata": {
        "colab": {
          "base_uri": "https://localhost:8080/",
          "height": 285
        },
        "id": "92c4eTq01u_A",
        "outputId": "17f407fc-f789-4eb8-af5f-dbfca6f8b3f4"
      },
      "source": [
        "res,y=make_blobs(n_samples=100,centers=4,cluster_std=0.60,random_state=0)\n",
        "plt.scatter(res[:,0],res[:,1])"
      ],
      "execution_count": 10,
      "outputs": [
        {
          "output_type": "execute_result",
          "data": {
            "text/plain": [
              "<matplotlib.collections.PathCollection at 0x7fa4311dc950>"
            ]
          },
          "metadata": {},
          "execution_count": 10
        },
        {
          "output_type": "display_data",
          "data": {
            "image/png": "[encoded data removed]",
            "text/plain": [
              "<Figure size 432x288 with 1 Axes>"
            ]
          },
          "metadata": {}
        }
      ]
    },
    {
      "cell_type": "code",
      "metadata": {
        "id": "Mzi5mXJ012hk"
      },
      "source": [
        "neigh=NearestNeighbors(n_neighbors=2)\n",
        "nbrs=neigh.fit(res)\n",
        "distances,indices=nbrs.kneighbors(res)"
      ],
      "execution_count": 11,
      "outputs": []
    },
    {
      "cell_type": "code",
      "metadata": {
        "colab": {
          "base_uri": "https://localhost:8080/",
          "height": 285
        },
        "id": "eWkG49lq15kU",
        "outputId": "8de95032-34db-4901-c79c-1be4dc8cf16c"
      },
      "source": [
        "distances=np.sort(distances,axis=0)\n",
        "distances=distances[:,1]\n",
        "plt.plot(distances)"
      ],
      "execution_count": 12,
      "outputs": [
        {
          "output_type": "execute_result",
          "data": {
            "text/plain": [
              "[<matplotlib.lines.Line2D at 0x7fa432b3d350>]"
            ]
          },
          "metadata": {},
          "execution_count": 12
        },
        {
          "output_type": "display_data",
          "data": {
            "image/png": "[encoded data removed]",
            "text/plain": [
              "<Figure size 432x288 with 1 Axes>"
            ]
          },
          "metadata": {}
        }
      ]
    },
    {
      "cell_type": "code",
      "metadata": {
        "id": "6gJR5h9318A8"
      },
      "source": [
        "dbscancluster=DBSCAN(eps=0.7,min_samples=4).fit(res)"
      ],
      "execution_count": 13,
      "outputs": []
    },
    {
      "cell_type": "code",
      "metadata": {
        "id": "2IunRwEn1_OX"
      },
      "source": [
        "clusters=dbscancluster.labels_"
      ],
      "execution_count": 14,
      "outputs": []
    },
    {
      "cell_type": "code",
      "metadata": {
        "id": "PZAeKfoU2BwK"
      },
      "source": [
        "core_samples_mask = np.zeros_like(dbscancluster.labels_, dtype=bool)\n",
        "core_samples_mask[dbscancluster.core_sample_indices_] = True\n",
        "labels = dbscancluster.labels_"
      ],
      "execution_count": 15,
      "outputs": []
    },
    {
      "cell_type": "code",
      "metadata": {
        "colab": {
          "base_uri": "https://localhost:8080/"
        },
        "id": "mjk6Y5HL2D9E",
        "outputId": "554f35d4-c72d-4d50-ce77-c78aefe5a098"
      },
      "source": [
        "n_clusters_ = len(set(labels)) - (1 if -1 in labels else 0)\n",
        "print(labels)"
      ],
      "execution_count": 16,
      "outputs": [
        {
          "output_type": "stream",
          "name": "stdout",
          "text": [
            "[ 0  1  0  0  0  0  2  1 -1  1  1  1  1  1  1  3  3  0  2  3 -1  1  2  3\n",
            "  0  2  0  0 -1  3  3  1  3  3  2  0  1  3 -1  2  0  2  1  2  2  1  3  2\n",
            "  0  0  0  3  2  2  2  1  1  3  3  1  1  3  3 -1  3  1  2  2  3  0  1  3\n",
            "  0  1  0  0  0  2  3  3  3  1  2  0  3  2  3  3  0  0  0  2  0  2  2  1\n",
            "  1  2  1 -1]\n"
          ]
        }
      ]
    },
    {
      "cell_type": "code",
      "metadata": {
        "colab": {
          "base_uri": "https://localhost:8080/"
        },
        "id": "HryYJfhK2GDB",
        "outputId": "b5100002-444d-498c-e631-85fbdd3bf465"
      },
      "source": [
        "unique_labels = set(labels)\n",
        "colors = ['y', 'b', 'g', 'r','brown']\n",
        "print(colors)"
      ],
      "execution_count": 17,
      "outputs": [
        {
          "output_type": "stream",
          "name": "stdout",
          "text": [
            "['y', 'b', 'g', 'r', 'brown']\n"
          ]
        }
      ]
    },
    {
      "cell_type": "code",
      "metadata": {
        "colab": {
          "base_uri": "https://localhost:8080/",
          "height": 301
        },
        "id": "ebOe5IER2I0_",
        "outputId": "ac2396f6-074b-47fd-cb10-72d88969cbb0"
      },
      "source": [
        "for k, col in zip(unique_labels, colors):\n",
        "    if k == -1:\n",
        "        col = 'k'\n",
        " \n",
        "    class_member_mask = (labels == k)\n",
        " \n",
        "    xy = res[class_member_mask & core_samples_mask]\n",
        "    plt.plot(xy[:, 0], xy[:, 1], 'o', markerfacecolor=col,\n",
        "             markeredgecolor='k',\n",
        "             markersize=6)\n",
        " \n",
        "    xy = res[class_member_mask & ~core_samples_mask]\n",
        "    plt.plot(xy[:, 0], xy[:, 1], 'o', markerfacecolor=col,\n",
        "             markeredgecolor='k',\n",
        "             markersize=6)\n",
        " \n",
        "plt.title('number of clusters: %d' % n_clusters_)\n",
        "\n",
        "plt.xlabel(\"Longitude\")\n",
        "plt.ylabel(\"Latitude\")\n",
        "plt.show()"
      ],
      "execution_count": 18,
      "outputs": [
        {
          "output_type": "display_data",
          "data": {
            "image/png": "[encoded data removed]",
            "text/plain": [
              "<Figure size 432x288 with 1 Axes>"
            ]
          },
          "metadata": {}
        }
      ]
    },
    {
      "cell_type": "code",
      "metadata": {
        "id": "NposWgdZ2Mu_"
      },
      "source": [
        ""
      ],
      "execution_count": null,
      "outputs": []
    }
  ]
}